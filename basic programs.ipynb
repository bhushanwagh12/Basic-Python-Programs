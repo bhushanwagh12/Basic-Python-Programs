{
 "cells": [
  {
   "cell_type": "markdown",
   "id": "803cdcf9",
   "metadata": {},
   "source": [
    "### Python program to add two numbers"
   ]
  },
  {
   "cell_type": "code",
   "execution_count": 5,
   "id": "978e7349",
   "metadata": {},
   "outputs": [
    {
     "name": "stdout",
     "output_type": "stream",
     "text": [
      "enter the first number:10\n",
      "enter the second number:20\n",
      "Sum of 10 and 20 is:30\n"
     ]
    }
   ],
   "source": [
    "\n",
    "num1=int(input('enter the first number:'))\n",
    "num2=int(input('enter the second number:'))\n",
    "sum = num1+num2\n",
    "# using f string\n",
    "# print(f'Sum of {num1} and {num2} is:',sum)\n",
    "\n",
    "# using format\n",
    "print('Sum of {0} and {1} is:{2}'.format(num1,num2,sum))"
   ]
  },
  {
   "cell_type": "code",
   "execution_count": 9,
   "id": "2a5a46bd",
   "metadata": {},
   "outputs": [
    {
     "name": "stdout",
     "output_type": "stream",
     "text": [
      "sum of 30 and 20 is 50\n"
     ]
    }
   ],
   "source": [
    "#using lambda function\n",
    "number1=30\n",
    "number2=20\n",
    "x = lambda number1,number2 : number1+number2\n",
    "print(\"sum of {0} and {1} is {2}\".format(number1,number2,x(number1,number2)))"
   ]
  },
  {
   "cell_type": "code",
   "execution_count": 26,
   "id": "f5ea623b",
   "metadata": {},
   "outputs": [
    {
     "name": "stdout",
     "output_type": "stream",
     "text": [
      "enter the number 1:10\n",
      "enter the number 2:20\n"
     ]
    },
    {
     "data": {
      "text/plain": [
       "30"
      ]
     },
     "execution_count": 26,
     "metadata": {},
     "output_type": "execute_result"
    }
   ],
   "source": [
    "def add_number(a,b):\n",
    "    sum = a+b\n",
    "    return sum\n",
    "x = int(input('enter the number 1:'))\n",
    "y = int(input('enter the number 2:'))\n",
    "add_number(x,y)"
   ]
  },
  {
   "cell_type": "markdown",
   "id": "31bb57cb",
   "metadata": {},
   "source": [
    "### Maximum of two numbers in Python"
   ]
  },
  {
   "cell_type": "code",
   "execution_count": 16,
   "id": "63af3f97",
   "metadata": {},
   "outputs": [
    {
     "data": {
      "text/plain": [
       "55"
      ]
     },
     "execution_count": 16,
     "metadata": {},
     "output_type": "execute_result"
    }
   ],
   "source": [
    "def maximum_number(a,b):\n",
    "    if a>=b:\n",
    "        return a\n",
    "    else:\n",
    "        return b\n",
    "maximum_number(30,55)"
   ]
  },
  {
   "cell_type": "code",
   "execution_count": 18,
   "id": "489ab090",
   "metadata": {},
   "outputs": [
    {
     "name": "stdout",
     "output_type": "stream",
     "text": [
      "89\n"
     ]
    }
   ],
   "source": [
    "# using max function\n",
    "\n",
    "num1 = 30\n",
    "num2 = 89\n",
    "print(max(num1,num2))"
   ]
  },
  {
   "cell_type": "code",
   "execution_count": 31,
   "id": "ca833acd",
   "metadata": {},
   "outputs": [
    {
     "name": "stdout",
     "output_type": "stream",
     "text": [
      "enter the first number:67\n",
      "enter the second number:87\n",
      "87\n"
     ]
    }
   ],
   "source": [
    "#using ternary operator\n",
    "a=int(input('enter the first number:'))\n",
    "b=int(input('enter the second number:'))\n",
    "#if first_value if condition else second value\n",
    "print(a if a>=b else b)\n"
   ]
  },
  {
   "cell_type": "code",
   "execution_count": null,
   "id": "b13758d4",
   "metadata": {},
   "outputs": [],
   "source": []
  }
 ],
 "metadata": {
  "kernelspec": {
   "display_name": "Python 3 (ipykernel)",
   "language": "python",
   "name": "python3"
  },
  "language_info": {
   "codemirror_mode": {
    "name": "ipython",
    "version": 3
   },
   "file_extension": ".py",
   "mimetype": "text/x-python",
   "name": "python",
   "nbconvert_exporter": "python",
   "pygments_lexer": "ipython3",
   "version": "3.8.10"
  }
 },
 "nbformat": 4,
 "nbformat_minor": 5
}
