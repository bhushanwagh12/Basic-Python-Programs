{
 "cells": [
  {
   "cell_type": "code",
   "execution_count": 5,
   "id": "9e6fd173",
   "metadata": {},
   "outputs": [
    {
     "name": "stdout",
     "output_type": "stream",
     "text": [
      "enter the first number:10\n",
      "enter the second number:20\n",
      "Sum of 10 and 20 is:30\n"
     ]
    }
   ],
   "source": [
    "#Python program to add two numbers\n",
    "num1=int(input('enter the first number:'))\n",
    "num2=int(input('enter the second number:'))\n",
    "sum = num1+num2\n",
    "# using f string\n",
    "# print(f'Sum of {num1} and {num2} is:',sum)\n",
    "\n",
    "# using format\n",
    "print('Sum of {0} and {1} is:{2}'.format(num1,num2,sum))"
   ]
  },
  {
   "cell_type": "code",
   "execution_count": 9,
   "id": "4acedb87",
   "metadata": {},
   "outputs": [
    {
     "name": "stdout",
     "output_type": "stream",
     "text": [
      "sum of 30 and 20 is 50\n"
     ]
    }
   ],
   "source": [
    "#using lambda function\n",
    "number1=30\n",
    "number2=20\n",
    "x = lambda number1,number2 : number1+number2\n",
    "print(\"sum of {0} and {1} is {2}\".format(number1,number2,x(number1,number2)))"
   ]
  },
  {
   "cell_type": "code",
   "execution_count": null,
   "id": "cb9b9c40",
   "metadata": {},
   "outputs": [],
   "source": []
  }
 ],
 "metadata": {
  "kernelspec": {
   "display_name": "Python 3 (ipykernel)",
   "language": "python",
   "name": "python3"
  },
  "language_info": {
   "codemirror_mode": {
    "name": "ipython",
    "version": 3
   },
   "file_extension": ".py",
   "mimetype": "text/x-python",
   "name": "python",
   "nbconvert_exporter": "python",
   "pygments_lexer": "ipython3",
   "version": "3.8.10"
  }
 },
 "nbformat": 4,
 "nbformat_minor": 5
}
